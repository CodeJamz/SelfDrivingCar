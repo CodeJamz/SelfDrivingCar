{
 "cells": [
  {
   "cell_type": "markdown",
   "metadata": {},
   "source": [
    "# 右转弯\n",
    "\n",
    "这个 notebook 会提供一些初始变量并创建一个汽车对象！\n",
    "\n",
    "这一次，你需要**修改 car.py 文件**并测试一些新函数！\n",
    "\n",
    "你在该 notebook 中的任务是：\n",
    "1. 向`car.py`添加一个`turn_right()`函数\n",
    "    - 你可以使用的方法有几种。 我建议在`turn_left()`中查看代码，甚至可以把这个函数*拿来使用*。\n",
    "2. 不要忘记在转弯之后根据需要更新**状态**！\n",
    "3. 通过将移动过程中的汽车可视化，在这个 notebook 中测试你的`turn_right()`函数，并输出汽车的状态，看一看它是否符合你的期望！"
   ]
  },
  {
   "cell_type": "code",
   "execution_count": null,
   "metadata": {},
   "outputs": [],
   "source": [
    "import numpy as np\n",
    "import car\n",
    "\n",
    "%matplotlib inline\n",
    "\n",
    "# Auto-reload function so that this notebook keeps up with \n",
    "# changes in the class file \n",
    "%load_ext autoreload\n",
    "%autoreload 2"
   ]
  },
  {
   "cell_type": "markdown",
   "metadata": {},
   "source": [
    "### 创建一个新的汽车对象"
   ]
  },
  {
   "cell_type": "code",
   "execution_count": null,
   "metadata": {},
   "outputs": [],
   "source": [
    "# Create a 2D world of 0's\n",
    "height = 4\n",
    "width = 6\n",
    "world = np.zeros((height, width))\n",
    "\n",
    "# Define the initial car state\n",
    "initial_position = [0, 0] # [y, x] (top-left corner)\n",
    "velocity = [0, 1] # [vy, vx] (moving to the right)\n",
    "\n",
    "# Create a car with initial params\n",
    "carla = car.Car(initial_position, velocity, world)\n"
   ]
  },
  {
   "cell_type": "markdown",
   "metadata": {},
   "source": [
    "### Python 文件目录\n",
    "\n",
    "请牢记，要返回查看并更改所有文件，请单击此 notebook 左上方的橙色Jupyter图标！ 在那里你会看到这个notebook 和`car.py`文件，你需要打开并修改它。\n",
    "\n",
    "我建议在一个新的选项卡中打开此 notebook 和car.py文件，这样便于你轻松查看两者！"
   ]
  },
  {
   "cell_type": "code",
   "execution_count": null,
   "metadata": {},
   "outputs": [],
   "source": [
    "## TODO: Move carla around, using your new turn_right() function\n",
    "## Display the result and the state as it changes\n"
   ]
  }
 ],
 "metadata": {},
 "nbformat": 4,
 "nbformat_minor": 2
}
