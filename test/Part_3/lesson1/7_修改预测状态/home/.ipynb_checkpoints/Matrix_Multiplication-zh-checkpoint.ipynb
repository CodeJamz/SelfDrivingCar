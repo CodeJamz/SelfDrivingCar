{
 "cells": [
  {
   "cell_type": "markdown",
   "metadata": {},
   "source": [
    "# Predict_state函数\n",
    "\n",
    "这是`predict_state`函数的当前实现。它会输入一个状态（即一个Python列表），然后将这些信息分为位置和速度，从而计算一个新的预测状态。它使用的是恒定速度运动模型。\n",
    "\n",
    "**在这个练习中，我们将改进这个函数，并使用矩阵乘法来有效地计算预测状态！**"
   ]
  },
  {
   "cell_type": "code",
   "execution_count": null,
   "metadata": {},
   "outputs": [],
   "source": [
    "# The current predict state function\n",
    "# Predicts the next state based on a motion model\n",
    "def predict_state(state, dt):\n",
    "    # Assumes a valid state had been passed in\n",
    "    x = state[0]\n",
    "    velocity = state[1]\n",
    "    \n",
    "    # Assumes a constant velocity model\n",
    "    new_x = x + velocity*dt\n",
    "    \n",
    "    # Create and return the new, predicted state\n",
    "    predicted_state = [new_x, velocity]\n",
    "    return predicted_state\n"
   ]
  },
  {
   "cell_type": "markdown",
   "metadata": {},
   "source": [
    "## 矩阵乘法\n",
    "\n",
    "你已经得到了一个矩阵类，它可以用来创建新的矩阵并执行一个操作：乘法。在我们的目录中，这被称为`matrix.py`。\n",
    "\n",
    "与Car类相似，我们可以使用它来将矩阵对象初始化。"
   ]
  },
  {
   "cell_type": "code",
   "execution_count": null,
   "metadata": {},
   "outputs": [],
   "source": [
    "# import the matrix file\n",
    "import matrix\n",
    "\n",
    "# Initialize a state vector\n",
    "initial_position = 0 # meters\n",
    "velocity = 50 # m/s\n",
    "\n",
    "# Notice the syntax for creating a state column vector ([ [x], [v] ])\n",
    "# Commas separate these items into rows and brackets into columns\n",
    "initial_state = matrix.Matrix([ [initial_position], \n",
    "                                [velocity] ])"
   ]
  },
  {
   "cell_type": "markdown",
   "metadata": {},
   "source": [
    "### 变换矩阵\n",
    "\n",
    "接下来，定义状态变换矩阵并将其输出吧！"
   ]
  },
  {
   "cell_type": "code",
   "execution_count": null,
   "metadata": {},
   "outputs": [],
   "source": [
    "# Define the state transformation matrix\n",
    "dt = 1\n",
    "tx_matrix = matrix.Matrix([ [1, dt], \n",
    "                            [0, 1] ])\n",
    "\n",
    "print(tx_matrix)"
   ]
  },
  {
   "cell_type": "markdown",
   "metadata": {},
   "source": [
    "### TODO: 修改预测状态函数并使用矩阵乘法\n",
    "\n",
    "现在你已经知道了如何创建矩阵，接下来请修改`predict_state`函数，然后运行起来！\n",
    "\n",
    "注意：你可以通过写入`A*B`将矩阵A乘以矩阵B，它将返回一个新的矩阵。"
   ]
  },
  {
   "cell_type": "code",
   "execution_count": null,
   "metadata": {},
   "outputs": [],
   "source": [
    "# The current predict state function\n",
    "def predict_state_mtx(state, dt):\n",
    "    ## TODO: Assume that the state passed in is a Matrix object\n",
    "    ## Using a constant velocity model and a transformation matrix\n",
    "    ## Create and return the new, predicted state!\n",
    "    predicted_state = 0\n",
    "    \n",
    "    return predicted_state"
   ]
  },
  {
   "cell_type": "markdown",
   "metadata": {},
   "source": [
    "### 测试单元格\n",
    "\n",
    "下面是一个初始状态向量和dt，测试你的函数时可以用到！"
   ]
  },
  {
   "cell_type": "code",
   "execution_count": null,
   "metadata": {},
   "outputs": [],
   "source": [
    "# initial state variables\n",
    "initial_position = 10 # meters\n",
    "velocity = 30 # m/s\n",
    "\n",
    "# Initial state vector\n",
    "initial_state = matrix.Matrix([ [initial_position], \n",
    "                                [velocity] ])\n",
    "\n",
    "\n",
    "print('The initial state is: ' + str(initial_state))\n",
    "\n",
    "\n",
    "# after 2 seconds make a prediction using the new function\n",
    "state_est1 = predict_state_mtx(initial_state, 2)\n",
    "\n",
    "print('State after 2 seconds is: ' + str(state_est1))"
   ]
  },
  {
   "cell_type": "code",
   "execution_count": null,
   "metadata": {},
   "outputs": [],
   "source": [
    "# Make more predictions!\n",
    "\n",
    "# after 3 more\n",
    "state_est2 = predict_state_mtx(state_est1, 3)\n",
    "\n",
    "print('State after 3 more seconds is: ' + str(state_est2))\n",
    "\n",
    "# after 3 more\n",
    "state_est3 = predict_state_mtx(state_est2, 3)\n",
    "\n",
    "print('Final state after 3 more seconds is: ' + str(state_est3))"
   ]
  }
 ],
 "metadata": {},
 "nbformat": 4,
 "nbformat_minor": 2
}
