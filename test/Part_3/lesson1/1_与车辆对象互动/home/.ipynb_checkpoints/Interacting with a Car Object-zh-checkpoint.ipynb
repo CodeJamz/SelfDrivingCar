{
 "cells": [
  {
   "cell_type": "markdown",
   "metadata": {},
   "source": [
    "# 与汽车对象进行交互\n",
    "\n",
    "在该 notebook 中，你已经获得了一些用于创建汽车对象并与之进行交互的启动代码。\n",
    "\n",
    "你的任务是：\n",
    "\n",
    "1. 熟悉这段代码。\n",
    "    - 了解如何创建一个汽车对象，以及如何移动并使这辆汽车转动起来。\n",
    "2. 不断使这辆汽车形象化。\n",
    "    - 为确保代码正常运行，请多次调用`display_world()`查看结果！\n",
    "3. **让汽车沿着4x4的方形路线行进。** \n",
    "    - 如果你了解移动函数与转动函数，你应该能够告诉这辆汽车在正方形路径上移动。 这个任务就是该notebook末尾的**TODO**。\n",
    "\n",
    "随意更改初始变量的值，并根据需要添加函数！\n",
    "\n",
    "请牢记，要在notebook中运行单元格，请按下`Shift+Enter` 。"
   ]
  },
  {
   "cell_type": "code",
   "execution_count": null,
   "metadata": {},
   "outputs": [],
   "source": [
    "import numpy as np\n",
    "import car\n",
    "\n",
    "%matplotlib inline"
   ]
  },
  {
   "cell_type": "markdown",
   "metadata": {},
   "source": [
    "### 定义初始变量"
   ]
  },
  {
   "cell_type": "code",
   "execution_count": null,
   "metadata": {},
   "outputs": [],
   "source": [
    "# Create a 2D world of 0's\n",
    "height = 4\n",
    "width = 6\n",
    "world = np.zeros((height, width))\n",
    "\n",
    "# Define the initial car state\n",
    "initial_position = [0, 0] # [y, x] (top-left corner)\n",
    "velocity = [0, 1] # [vy, vx] (moving to the right)\n"
   ]
  },
  {
   "cell_type": "markdown",
   "metadata": {},
   "source": [
    "### 创建一个汽车对象"
   ]
  },
  {
   "cell_type": "code",
   "execution_count": null,
   "metadata": {},
   "outputs": [],
   "source": [
    "# Create a car object with these initial params\n",
    "carla = car.Car(initial_position, velocity, world)\n",
    "\n",
    "print('Carla\\'s initial state is: ' + str(carla.state))"
   ]
  },
  {
   "cell_type": "markdown",
   "metadata": {},
   "source": [
    "### 移动并跟踪状态"
   ]
  },
  {
   "cell_type": "code",
   "execution_count": null,
   "metadata": {},
   "outputs": [],
   "source": [
    "# Move in the direction of the initial velocity\n",
    "carla.move()\n",
    "\n",
    "# Track the change in state\n",
    "print('Carla\\'s state is: ' + str(carla.state))\n",
    "\n",
    "# Display the world\n",
    "carla.display_world()"
   ]
  },
  {
   "cell_type": "markdown",
   "metadata": {},
   "source": [
    "## TODO：在正方形路径中移动\n",
    "\n",
    "使用`move()`与`turn_left()`函数，使carla遍历一个4x4的方形路径。\n",
    "\n",
    "输出应如下所示：\n",
    "<img src=\"files/4x4_path.png\" style=\"width: 30%;\">"
   ]
  },
  {
   "cell_type": "code",
   "execution_count": null,
   "metadata": {},
   "outputs": [],
   "source": [
    "## TODO: Make carla traverse a 4x4 square path\n",
    "## Display the result\n"
   ]
  }
 ],
 "metadata": {},
 "nbformat": 4,
 "nbformat_minor": 2
}
