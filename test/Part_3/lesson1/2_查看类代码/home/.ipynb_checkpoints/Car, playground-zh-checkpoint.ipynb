{
 "cells": [
  {
   "cell_type": "markdown",
   "metadata": {},
   "source": [
    "# 汽车训练1\n",
    "\n",
    "这个 notebook 提供了一些初始变量并创建了一个汽车对象。不过我们鼓励你自由发挥，按照你的想法编写让汽车移动的代码！\n",
    "\n",
    "如果你 **修改了 car.py 文件**并想测试一些新的汽车属性或功能，这个训练将会特别有用！\n",
    "\n",
    "所以，你在这个 notebook 中的唯一任务就是将其作为你自己的个人测试场地。下面是一些思路：\n",
    "1. 创建具有不同初始状态的多辆汽车\n",
    "    - 使用`display_world()`来显示它们\n",
    "2. 在car.py中添加一个函数（通过点击返回，然后点击橙色的Jupyter图标），然后在这里调用该函数！\n",
    "3. 在car.py中的__init__中添加一个新的初始变量并使用它！"
   ]
  },
  {
   "cell_type": "code",
   "execution_count": null,
   "metadata": {},
   "outputs": [],
   "source": [
    "import numpy as np\n",
    "import car\n",
    "\n",
    "%matplotlib inline\n",
    "\n",
    "# Auto-reload function so that this notebook keeps up with \n",
    "# changes in the class file \n",
    "%load_ext autoreload\n",
    "%autoreload 2"
   ]
  },
  {
   "cell_type": "markdown",
   "metadata": {},
   "source": [
    "### 创建一个新的汽车对象"
   ]
  },
  {
   "cell_type": "code",
   "execution_count": null,
   "metadata": {},
   "outputs": [],
   "source": [
    "# Create a 2D world of 0's\n",
    "height = 4\n",
    "width = 6\n",
    "world = np.zeros((height, width))\n",
    "\n",
    "# Define the initial car state\n",
    "initial_position = [0, 0] # [y, x] (top-left corner)\n",
    "velocity = [0, 1] # [vy, vx] (moving to the right)\n",
    "\n",
    "# Create a car with initial params\n",
    "carla = car.Car(initial_position, velocity, world)\n",
    "carla.display_world()"
   ]
  },
  {
   "cell_type": "code",
   "execution_count": null,
   "metadata": {},
   "outputs": [],
   "source": [
    "## TODO: Create multiple cars and visualize them\n"
   ]
  }
 ],
 "metadata": {
  "kernelspec": {
   "display_name": "Python 3",
   "language": "python",
   "name": "python3"
  },
  "language_info": {
   "codemirror_mode": {
    "name": "ipython",
    "version": 3
   },
   "file_extension": ".py",
   "mimetype": "text/x-python",
   "name": "python",
   "nbconvert_exporter": "python",
   "pygments_lexer": "ipython3",
   "version": "3.6.3"
  }
 },
 "nbformat": 4,
 "nbformat_minor": 2
}
